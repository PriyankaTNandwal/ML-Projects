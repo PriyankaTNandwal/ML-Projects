{
 "cells": [
  {
   "cell_type": "markdown",
   "source": [
    "Classifying MNIST with Tensorflow"
   ],
   "metadata": {
    "collapsed": false
   },
   "id": "9052db030cf530f1"
  },
  {
   "cell_type": "code",
   "outputs": [
    {
     "name": "stdout",
     "output_type": "stream",
     "text": [
      "2.16.1\n"
     ]
    }
   ],
   "source": [
    "#import required libraries\n",
    "import tensorflow as tf\n",
    "from matplotlib import pyplot as plt\n",
    "from tensorflow.keras.datasets import mnist\n",
    "import numpy as np\n",
    "\n",
    "print(tf.__version__)"
   ],
   "metadata": {
    "collapsed": false,
    "ExecuteTime": {
     "end_time": "2024-05-31T09:48:57.010792600Z",
     "start_time": "2024-05-31T09:48:52.796053300Z"
    }
   },
   "id": "cad79e59342af797",
   "execution_count": 1
  },
  {
   "cell_type": "markdown",
   "source": [
    "Importing and Preparing Data"
   ],
   "metadata": {
    "collapsed": false
   },
   "id": "973948155e34dc03"
  },
  {
   "cell_type": "code",
   "outputs": [],
   "source": [
    "# Getting train and test sets\n",
    "(train_images, train_labels), (test_images, test_labels) = mnist.load_data()"
   ],
   "metadata": {
    "collapsed": false,
    "ExecuteTime": {
     "end_time": "2024-05-31T09:49:04.934761800Z",
     "start_time": "2024-05-31T09:49:04.552766Z"
    }
   },
   "id": "6608cf14be87aba8",
   "execution_count": 2
  },
  {
   "cell_type": "code",
   "outputs": [
    {
     "name": "stdout",
     "output_type": "stream",
     "text": [
      "255\n"
     ]
    }
   ],
   "source": [
    "# Check max pixel value for scaling\n",
    "max_value = np.max(train_images[0])\n",
    "print(max_value)\n",
    "\n",
    "# Scale Images\n",
    "train_images = train_images/max_value\n",
    "test_images = test_images/max_value"
   ],
   "metadata": {
    "collapsed": false,
    "ExecuteTime": {
     "end_time": "2024-05-31T09:49:05.813775300Z",
     "start_time": "2024-05-31T09:49:05.475764Z"
    }
   },
   "id": "afd2901ffff4a78f",
   "execution_count": 3
  },
  {
   "cell_type": "markdown",
   "source": [
    "# Training and Modeling\n",
    "we will create a CNN architecture for this use-case. As we have image data CNN works better as convolving layers reduces the high dimension of images without loosing its information."
   ],
   "metadata": {
    "collapsed": false
   },
   "id": "72f16cb73f07c2b7"
  },
  {
   "cell_type": "code",
   "outputs": [],
   "source": [
    "# Creating CNN architecture\n",
    "def create_model(n_conv=1, n_filters=None, kernal_size=None, n_dense=None, dense=None):\n",
    "    layers = [tf.keras.layers.InputLayer(shape=INPUT_SHAPE)]\n",
    "    if n_conv==1:\n",
    "         layers.extend([tf.keras.layers.InputLayer(input_shape=INPUT_SHAPE),\n",
    "                                             tf.keras.layers.Conv2D(256, (3, 3), activation='relu', padding='valid', input_shape=INPUT_SHAPE, name='conv1'),\n",
    "                                             tf.keras.layers.MaxPool2D((2, 2), strides=(2,2), padding=\"valid\",name=\"pool1\"),\n",
    "                                             tf.keras.layers.Flatten()])\n",
    "    else:\n",
    "        for i in range(n_conv-1):\n",
    "            layers.extend([tf.keras.layers.Conv2D(n_filters[i], kernal_size[i], activation='relu', padding='valid', input_shape=INPUT_SHAPE, name=f'conv{i}'),\n",
    "                           tf.keras.layers.MaxPool2D((2, 2), strides=(2,2), padding=\"valid\",name=f\"pool{i}\"),])\n",
    "            \n",
    "        layers.append(tf.keras.layers.Flatten())\n",
    "        \n",
    "        if n_dense > 1:\n",
    "            for i in range(n_dense-2):\n",
    "                layers.append([tf.keras.layers.Dense(128, activation=tf.nn.relu),\n",
    "                               tf.keras.layers.Dropout(0.2)])\n",
    "    \n",
    "    layers.append(tf.keras.layers.Dense(dense, activation=tf.nn.softmax))\n",
    "        \n",
    "    model = tf.keras.models.Sequential(layers)                                        \n",
    "    model.compile(optimizer='adam',\n",
    "                  loss='sparse_categorical_crossentropy',\n",
    "                  metrics=['accuracy'])\n",
    "    return model"
   ],
   "metadata": {
    "collapsed": false,
    "ExecuteTime": {
     "end_time": "2024-05-31T09:51:04.039286700Z",
     "start_time": "2024-05-31T09:51:04.013290400Z"
    }
   },
   "id": "a1e80adfc70ad7cd",
   "execution_count": 9
  },
  {
   "cell_type": "markdown",
   "source": [
    "Define the callbacks to avoid over-fitting. Callback will stop the training when there is no improvement in the loss for 3 consecutive epocs."
   ],
   "metadata": {
    "collapsed": false
   },
   "id": "85642e184af4745a"
  },
  {
   "cell_type": "code",
   "outputs": [],
   "source": [
    "from tensorflow.keras.callbacks import EarlyStopping\n",
    "# monitor=\"val_loss\" : This is default value\n",
    "callbacks = [EarlyStopping(patience=2, mode='min')]"
   ],
   "metadata": {
    "collapsed": false,
    "ExecuteTime": {
     "end_time": "2024-05-31T09:49:19.413400400Z",
     "start_time": "2024-05-31T09:49:19.393399900Z"
    }
   },
   "id": "8d577c17d5441430",
   "execution_count": 6
  },
  {
   "cell_type": "code",
   "outputs": [],
   "source": [
    "def get_k_fold_score(k_fold, model):\n",
    "    fold_no = 1\n",
    "    history_list = []\n",
    "    \n",
    "    for train_idx, test_idx in k_fold.split(train_images, train_labels):\n",
    "        history = model.fit(train_images[train_idx], train_labels[train_idx], validation_data=(train_images[test_idx], train_labels[test_idx]), callbacks=callbacks, epochs=1)\n",
    "        print(f'Fold {fold_no} : history.history')\n",
    "        fold_no+=1\n",
    "        history_list.append(history)\n",
    "    return history_list"
   ],
   "metadata": {
    "collapsed": false,
    "ExecuteTime": {
     "end_time": "2024-05-31T09:49:21.941425500Z",
     "start_time": "2024-05-31T09:49:21.901398700Z"
    }
   },
   "id": "59fb98006520473e",
   "execution_count": 7
  },
  {
   "cell_type": "code",
   "outputs": [
    {
     "data": {
      "text/plain": "\u001B[1mModel: \"sequential_5\"\u001B[0m\n",
      "text/html": "<pre style=\"white-space:pre;overflow-x:auto;line-height:normal;font-family:Menlo,'DejaVu Sans Mono',consolas,'Courier New',monospace\"><span style=\"font-weight: bold\">Model: \"sequential_5\"</span>\n</pre>\n"
     },
     "metadata": {},
     "output_type": "display_data"
    },
    {
     "data": {
      "text/plain": "┏━━━━━━━━━━━━━━━━━━━━━━━━━━━━━━━━━┳━━━━━━━━━━━━━━━━━━━━━━━━┳━━━━━━━━━━━━━━━┓\n┃\u001B[1m \u001B[0m\u001B[1mLayer (type)                   \u001B[0m\u001B[1m \u001B[0m┃\u001B[1m \u001B[0m\u001B[1mOutput Shape          \u001B[0m\u001B[1m \u001B[0m┃\u001B[1m \u001B[0m\u001B[1m      Param #\u001B[0m\u001B[1m \u001B[0m┃\n┡━━━━━━━━━━━━━━━━━━━━━━━━━━━━━━━━━╇━━━━━━━━━━━━━━━━━━━━━━━━╇━━━━━━━━━━━━━━━┩\n│ conv0 (\u001B[38;5;33mConv2D\u001B[0m)                  │ (\u001B[38;5;45mNone\u001B[0m, \u001B[38;5;34m26\u001B[0m, \u001B[38;5;34m26\u001B[0m, \u001B[38;5;34m256\u001B[0m)    │         \u001B[38;5;34m2,560\u001B[0m │\n├─────────────────────────────────┼────────────────────────┼───────────────┤\n│ pool0 (\u001B[38;5;33mMaxPooling2D\u001B[0m)            │ (\u001B[38;5;45mNone\u001B[0m, \u001B[38;5;34m13\u001B[0m, \u001B[38;5;34m13\u001B[0m, \u001B[38;5;34m256\u001B[0m)    │             \u001B[38;5;34m0\u001B[0m │\n├─────────────────────────────────┼────────────────────────┼───────────────┤\n│ conv1 (\u001B[38;5;33mConv2D\u001B[0m)                  │ (\u001B[38;5;45mNone\u001B[0m, \u001B[38;5;34m11\u001B[0m, \u001B[38;5;34m11\u001B[0m, \u001B[38;5;34m128\u001B[0m)    │       \u001B[38;5;34m295,040\u001B[0m │\n├─────────────────────────────────┼────────────────────────┼───────────────┤\n│ pool1 (\u001B[38;5;33mMaxPooling2D\u001B[0m)            │ (\u001B[38;5;45mNone\u001B[0m, \u001B[38;5;34m5\u001B[0m, \u001B[38;5;34m5\u001B[0m, \u001B[38;5;34m128\u001B[0m)      │             \u001B[38;5;34m0\u001B[0m │\n├─────────────────────────────────┼────────────────────────┼───────────────┤\n│ flatten_5 (\u001B[38;5;33mFlatten\u001B[0m)             │ (\u001B[38;5;45mNone\u001B[0m, \u001B[38;5;34m3200\u001B[0m)           │             \u001B[38;5;34m0\u001B[0m │\n├─────────────────────────────────┼────────────────────────┼───────────────┤\n│ dense_5 (\u001B[38;5;33mDense\u001B[0m)                 │ (\u001B[38;5;45mNone\u001B[0m, \u001B[38;5;34m10\u001B[0m)             │        \u001B[38;5;34m32,010\u001B[0m │\n└─────────────────────────────────┴────────────────────────┴───────────────┘\n",
      "text/html": "<pre style=\"white-space:pre;overflow-x:auto;line-height:normal;font-family:Menlo,'DejaVu Sans Mono',consolas,'Courier New',monospace\">┏━━━━━━━━━━━━━━━━━━━━━━━━━━━━━━━━━┳━━━━━━━━━━━━━━━━━━━━━━━━┳━━━━━━━━━━━━━━━┓\n┃<span style=\"font-weight: bold\"> Layer (type)                    </span>┃<span style=\"font-weight: bold\"> Output Shape           </span>┃<span style=\"font-weight: bold\">       Param # </span>┃\n┡━━━━━━━━━━━━━━━━━━━━━━━━━━━━━━━━━╇━━━━━━━━━━━━━━━━━━━━━━━━╇━━━━━━━━━━━━━━━┩\n│ conv0 (<span style=\"color: #0087ff; text-decoration-color: #0087ff\">Conv2D</span>)                  │ (<span style=\"color: #00d7ff; text-decoration-color: #00d7ff\">None</span>, <span style=\"color: #00af00; text-decoration-color: #00af00\">26</span>, <span style=\"color: #00af00; text-decoration-color: #00af00\">26</span>, <span style=\"color: #00af00; text-decoration-color: #00af00\">256</span>)    │         <span style=\"color: #00af00; text-decoration-color: #00af00\">2,560</span> │\n├─────────────────────────────────┼────────────────────────┼───────────────┤\n│ pool0 (<span style=\"color: #0087ff; text-decoration-color: #0087ff\">MaxPooling2D</span>)            │ (<span style=\"color: #00d7ff; text-decoration-color: #00d7ff\">None</span>, <span style=\"color: #00af00; text-decoration-color: #00af00\">13</span>, <span style=\"color: #00af00; text-decoration-color: #00af00\">13</span>, <span style=\"color: #00af00; text-decoration-color: #00af00\">256</span>)    │             <span style=\"color: #00af00; text-decoration-color: #00af00\">0</span> │\n├─────────────────────────────────┼────────────────────────┼───────────────┤\n│ conv1 (<span style=\"color: #0087ff; text-decoration-color: #0087ff\">Conv2D</span>)                  │ (<span style=\"color: #00d7ff; text-decoration-color: #00d7ff\">None</span>, <span style=\"color: #00af00; text-decoration-color: #00af00\">11</span>, <span style=\"color: #00af00; text-decoration-color: #00af00\">11</span>, <span style=\"color: #00af00; text-decoration-color: #00af00\">128</span>)    │       <span style=\"color: #00af00; text-decoration-color: #00af00\">295,040</span> │\n├─────────────────────────────────┼────────────────────────┼───────────────┤\n│ pool1 (<span style=\"color: #0087ff; text-decoration-color: #0087ff\">MaxPooling2D</span>)            │ (<span style=\"color: #00d7ff; text-decoration-color: #00d7ff\">None</span>, <span style=\"color: #00af00; text-decoration-color: #00af00\">5</span>, <span style=\"color: #00af00; text-decoration-color: #00af00\">5</span>, <span style=\"color: #00af00; text-decoration-color: #00af00\">128</span>)      │             <span style=\"color: #00af00; text-decoration-color: #00af00\">0</span> │\n├─────────────────────────────────┼────────────────────────┼───────────────┤\n│ flatten_5 (<span style=\"color: #0087ff; text-decoration-color: #0087ff\">Flatten</span>)             │ (<span style=\"color: #00d7ff; text-decoration-color: #00d7ff\">None</span>, <span style=\"color: #00af00; text-decoration-color: #00af00\">3200</span>)           │             <span style=\"color: #00af00; text-decoration-color: #00af00\">0</span> │\n├─────────────────────────────────┼────────────────────────┼───────────────┤\n│ dense_5 (<span style=\"color: #0087ff; text-decoration-color: #0087ff\">Dense</span>)                 │ (<span style=\"color: #00d7ff; text-decoration-color: #00d7ff\">None</span>, <span style=\"color: #00af00; text-decoration-color: #00af00\">10</span>)             │        <span style=\"color: #00af00; text-decoration-color: #00af00\">32,010</span> │\n└─────────────────────────────────┴────────────────────────┴───────────────┘\n</pre>\n"
     },
     "metadata": {},
     "output_type": "display_data"
    },
    {
     "data": {
      "text/plain": "\u001B[1m Total params: \u001B[0m\u001B[38;5;34m329,610\u001B[0m (1.26 MB)\n",
      "text/html": "<pre style=\"white-space:pre;overflow-x:auto;line-height:normal;font-family:Menlo,'DejaVu Sans Mono',consolas,'Courier New',monospace\"><span style=\"font-weight: bold\"> Total params: </span><span style=\"color: #00af00; text-decoration-color: #00af00\">329,610</span> (1.26 MB)\n</pre>\n"
     },
     "metadata": {},
     "output_type": "display_data"
    },
    {
     "data": {
      "text/plain": "\u001B[1m Trainable params: \u001B[0m\u001B[38;5;34m329,610\u001B[0m (1.26 MB)\n",
      "text/html": "<pre style=\"white-space:pre;overflow-x:auto;line-height:normal;font-family:Menlo,'DejaVu Sans Mono',consolas,'Courier New',monospace\"><span style=\"font-weight: bold\"> Trainable params: </span><span style=\"color: #00af00; text-decoration-color: #00af00\">329,610</span> (1.26 MB)\n</pre>\n"
     },
     "metadata": {},
     "output_type": "display_data"
    },
    {
     "data": {
      "text/plain": "\u001B[1m Non-trainable params: \u001B[0m\u001B[38;5;34m0\u001B[0m (0.00 B)\n",
      "text/html": "<pre style=\"white-space:pre;overflow-x:auto;line-height:normal;font-family:Menlo,'DejaVu Sans Mono',consolas,'Courier New',monospace\"><span style=\"font-weight: bold\"> Non-trainable params: </span><span style=\"color: #00af00; text-decoration-color: #00af00\">0</span> (0.00 B)\n</pre>\n"
     },
     "metadata": {},
     "output_type": "display_data"
    },
    {
     "name": "stdout",
     "output_type": "stream",
     "text": [
      "None\n",
      "\u001B[1m1688/1688\u001B[0m \u001B[32m━━━━━━━━━━━━━━━━━━━━\u001B[0m\u001B[37m\u001B[0m \u001B[1m107s\u001B[0m 63ms/step - accuracy: 0.9185 - loss: 0.2754 - val_accuracy: 0.9802 - val_loss: 0.0594\n",
      "Fold 1 : history.history\n",
      "\u001B[1m1688/1688\u001B[0m \u001B[32m━━━━━━━━━━━━━━━━━━━━\u001B[0m\u001B[37m\u001B[0m \u001B[1m94s\u001B[0m 56ms/step - accuracy: 0.9867 - loss: 0.0446 - val_accuracy: 0.9908 - val_loss: 0.0320\n",
      "Fold 2 : history.history\n",
      "\u001B[1m1688/1688\u001B[0m \u001B[32m━━━━━━━━━━━━━━━━━━━━\u001B[0m\u001B[37m\u001B[0m \u001B[1m93s\u001B[0m 55ms/step - accuracy: 0.9902 - loss: 0.0318 - val_accuracy: 0.9862 - val_loss: 0.0455\n",
      "Fold 3 : history.history\n",
      "\u001B[1m1688/1688\u001B[0m \u001B[32m━━━━━━━━━━━━━━━━━━━━\u001B[0m\u001B[37m\u001B[0m \u001B[1m95s\u001B[0m 56ms/step - accuracy: 0.9932 - loss: 0.0215 - val_accuracy: 0.9917 - val_loss: 0.0262\n",
      "Fold 4 : history.history\n",
      "\u001B[1m1688/1688\u001B[0m \u001B[32m━━━━━━━━━━━━━━━━━━━━\u001B[0m\u001B[37m\u001B[0m \u001B[1m97s\u001B[0m 58ms/step - accuracy: 0.9948 - loss: 0.0185 - val_accuracy: 0.9937 - val_loss: 0.0196\n",
      "Fold 5 : history.history\n",
      "\u001B[1m1688/1688\u001B[0m \u001B[32m━━━━━━━━━━━━━━━━━━━━\u001B[0m\u001B[37m\u001B[0m \u001B[1m112s\u001B[0m 66ms/step - accuracy: 0.9953 - loss: 0.0139 - val_accuracy: 0.9952 - val_loss: 0.0209\n",
      "Fold 6 : history.history\n",
      "\u001B[1m1688/1688\u001B[0m \u001B[32m━━━━━━━━━━━━━━━━━━━━\u001B[0m\u001B[37m\u001B[0m \u001B[1m95s\u001B[0m 56ms/step - accuracy: 0.9966 - loss: 0.0110 - val_accuracy: 0.9945 - val_loss: 0.0142\n",
      "Fold 7 : history.history\n",
      "\u001B[1m1688/1688\u001B[0m \u001B[32m━━━━━━━━━━━━━━━━━━━━\u001B[0m\u001B[37m\u001B[0m \u001B[1m93s\u001B[0m 55ms/step - accuracy: 0.9976 - loss: 0.0079 - val_accuracy: 0.9977 - val_loss: 0.0059\n",
      "Fold 8 : history.history\n",
      "\u001B[1m1688/1688\u001B[0m \u001B[32m━━━━━━━━━━━━━━━━━━━━\u001B[0m\u001B[37m\u001B[0m \u001B[1m93s\u001B[0m 55ms/step - accuracy: 0.9979 - loss: 0.0069 - val_accuracy: 0.9965 - val_loss: 0.0091\n",
      "Fold 9 : history.history\n",
      "\u001B[1m1688/1688\u001B[0m \u001B[32m━━━━━━━━━━━━━━━━━━━━\u001B[0m\u001B[37m\u001B[0m \u001B[1m101s\u001B[0m 60ms/step - accuracy: 0.9985 - loss: 0.0048 - val_accuracy: 0.9980 - val_loss: 0.0056\n",
      "Fold 10 : history.history\n",
      "[<keras.src.callbacks.history.History object at 0x0000024BD11FF8E0>, <keras.src.callbacks.history.History object at 0x0000024BD11FC6A0>, <keras.src.callbacks.history.History object at 0x0000024BD454B0A0>, <keras.src.callbacks.history.History object at 0x0000024BD454B760>, <keras.src.callbacks.history.History object at 0x0000024BD45FA5F0>, <keras.src.callbacks.history.History object at 0x0000024BD11FDA20>, <keras.src.callbacks.history.History object at 0x0000024BD11FC3A0>, <keras.src.callbacks.history.History object at 0x0000024BD45E9450>, <keras.src.callbacks.history.History object at 0x0000024BD5E87940>, <keras.src.callbacks.history.History object at 0x0000024BD5E86500>]\n"
     ]
    }
   ],
   "source": [
    "from sklearn.model_selection import KFold\n",
    "\n",
    "num_folds = 10\n",
    "n_epocs = 10\n",
    "\n",
    "INPUT_SHAPE = (28, 28, 1)\n",
    "n_conv = 3\n",
    "n_dense = 1\n",
    "n_classes = 10\n",
    "\n",
    "filters = [256, 128, 128]\n",
    "kernal_size = n_conv * [(3, 3)]\n",
    "\n",
    "assert len(filters) == n_conv\n",
    "assert len(kernal_size) == n_conv\n",
    "\n",
    "\n",
    "cnn_model = create_model(n_conv, filters, kernal_size, n_dense, n_classes)\n",
    "print(cnn_model.summary())\n",
    "\n",
    "scores = get_k_fold_score(KFold(n_splits=num_folds, shuffle=True), cnn_model)"
   ],
   "metadata": {
    "collapsed": false,
    "ExecuteTime": {
     "end_time": "2024-05-31T10:24:23.454068300Z",
     "start_time": "2024-05-31T10:07:56.809270100Z"
    }
   },
   "id": "b12b29ccb113dfbb",
   "execution_count": 28
  },
  {
   "cell_type": "code",
   "outputs": [
    {
     "name": "stdout",
     "output_type": "stream",
     "text": [
      "0.9910055518150329\n",
      "0.9924333333969116\n",
      "\u001B[1m313/313\u001B[0m \u001B[32m━━━━━━━━━━━━━━━━━━━━\u001B[0m\u001B[37m\u001B[0m \u001B[1m5s\u001B[0m 17ms/step\n",
      "{'accuracy': 0.9935625195503235, 'loss': 0.005633053369820118}\n"
     ]
    }
   ],
   "source": [
    "from matplotlib import pyplot as plt\n",
    "\n",
    "accuracy = []\n",
    "loss = []\n",
    "val_loss = []\n",
    "val_accuracy = []\n",
    "\n",
    "for i in range(num_folds):\n",
    "    accuracy.append(scores[i].history['accuracy'])\n",
    "    loss.append(scores[i].history['loss'])\n",
    "    val_loss.append(scores[i].history['val_loss'])\n",
    "    val_accuracy.append(scores[i].history['val_accuracy'])\n",
    "\n",
    "\n",
    "print(np.mean(accuracy))\n",
    "print(np.mean(val_accuracy))\n",
    "\n",
    "predictions = cnn_model.predict(test_images)\n",
    "print(cnn_model.compute_metrics(test_images, test_labels, predictions))"
   ],
   "metadata": {
    "collapsed": false,
    "ExecuteTime": {
     "end_time": "2024-05-31T10:28:28.476755200Z",
     "start_time": "2024-05-31T10:28:22.885784600Z"
    }
   },
   "id": "999c2aeb859e3d74",
   "execution_count": 29
  },
  {
   "cell_type": "code",
   "outputs": [],
   "source": [],
   "metadata": {
    "collapsed": false
   },
   "id": "336cdba44f540b3c"
  }
 ],
 "metadata": {
  "kernelspec": {
   "display_name": "Python 3",
   "language": "python",
   "name": "python3"
  },
  "language_info": {
   "codemirror_mode": {
    "name": "ipython",
    "version": 2
   },
   "file_extension": ".py",
   "mimetype": "text/x-python",
   "name": "python",
   "nbconvert_exporter": "python",
   "pygments_lexer": "ipython2",
   "version": "2.7.6"
  }
 },
 "nbformat": 4,
 "nbformat_minor": 5
}
